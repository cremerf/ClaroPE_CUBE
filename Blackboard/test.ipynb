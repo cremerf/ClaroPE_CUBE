{
 "cells": [
  {
   "cell_type": "code",
   "execution_count": 1,
   "metadata": {},
   "outputs": [],
   "source": [
    "from packages.tools import ConnectionBigQuery\n",
    "from packages.claro_paths import ClaroPath\n",
    "import pandas as pd\n",
    "import numpy as np\n",
    "import dask.dataframe as dd"
   ]
  },
  {
   "cell_type": "code",
   "execution_count": 2,
   "metadata": {},
   "outputs": [],
   "source": [
    "client = ConnectionBigQuery(path_credentials=\"C:/Users/Federico.Cremer/OneDrive - Havas/Desktop/Science/Claro Peru/credentials.json\",project_id=\"claro-peru-trasabilidad\")\n",
    "\n",
    "client.connect()"
   ]
  },
  {
   "cell_type": "code",
   "execution_count": null,
   "metadata": {},
   "outputs": [],
   "source": [
    "#print(\"Running:\")\n",
    "\n",
    "#list_datasets_1 = [\"DV360\", \"GoogleAds\",\"Facebook\",\"LinkedIn\",\"Paid_Media\",\"Twitter\"]\n",
    "\n",
    "columns_dv360 = [\"insertion_order\", \"campaign_name\", \"line_item\", \"clicks\", \"impressions\", \"conversions\", \"total_media_cost\", \"video_completions\", \"video_first_quartile_completes\", \"video_mid_points\", \"video_third_quartile_completes\"]\n",
    "columns_GoogleAds = [\"campaign_name\", \"ad_group_name\", \"clicks\", \"impressions\", \"conversions\", \"cost\", \"video_quartile_100_views\", \"conversion_value\", \"video_views\"]\n",
    "columns_Facebook = [\"campaign_name\", \"ad_group_name\", \"clicks\", \"impressions\", \"cost\", \"video_p_100_watched_actions\", \"video_p_25_watched_actions\", \"video_p_50_watched_actions\", \"video_p_75_watched_actions\", \"ad_name\", \"campaign_objective\", \"promoted_post_permalink_url\", \"promoted_post_permalink_ig_url\", \"action_link_click\", \"action_post_engagement\", \"landing_page_views\", \"conversion_value\", \"offsite_conversions\", \"offsite_conversions_fb_pixel_complete_registration\", \"offsite_conversions_fb_pixel_lead\", \"offsite_conversions_fb_pixel_purchase\", \"video_thruplay_watched_actions\", \"action_app_install\", \"action_type\", \"actions\"]\n",
    "columns_LinkedIn = [\"campaign_name\", \"clicks\", \"impressions\", \"conversions\", \"cost\", \"video_completions\", \"video_first_quartile_completions\", \"video_midpoint_completions\", \"video_third_quartile_completions\", \"campaign_objective\", \"total_engagements\", \"landing_page_clicks\", \"conversion_value\", \"video_views\", \"leads\"]\n",
    "columns_Paid_Media = ''\n",
    "columns_Twitter = [\"campaign_name\", \"line_item_name\", \"clicks\", \"impressions\", \"cost\", \"promoted_video_views_100\", \"promoted_video_views_25\", \"promoted_video_views_50\", \"promoted_video_views_75\", \"link_clicks\"]"
   ]
  },
  {
   "cell_type": "markdown",
   "metadata": {},
   "source": [
    "#### LINKEDIN / PAIDMEDIA / TWITTER"
   ]
  },
  {
   "cell_type": "code",
   "execution_count": 6,
   "metadata": {},
   "outputs": [
    {
     "name": "stderr",
     "output_type": "stream",
     "text": [
      "C:\\Users\\Federico.Cremer\\AppData\\Local\\Temp\\ipykernel_12764\\2453331419.py:1: DtypeWarning: Columns (1,2,3,4,6,7,8,9,12,13,14,15,16,17,18,19,20,21,22,23,24,65,67,68,69,71,72,73,74,76,80,81,83,84,85,86,87,89,91,92,93,94,95,97,98,101,102,103,106,107,109,110,111,112,114,137,138,139,140,141,142,143,144,147,150,151,152,154,155,156,157,158,159,161,166,167,168) have mixed types. Specify dtype option on import or set low_memory=False.\n",
      "  df_linkedIn_paidMedia_Twitter = pd.read_csv('cuboMaster2.csv')\n"
     ]
    }
   ],
   "source": [
    "df_linkedIn_paidMedia_Twitter = pd.read_csv('cuboMaster2.csv')"
   ]
  },
  {
   "cell_type": "code",
   "execution_count": 11,
   "metadata": {},
   "outputs": [],
   "source": [
    "df_linkedIn_paidMedia_Twitter = df_linkedIn_paidMedia_Twitter.loc[:, [\"campaign_name\", \"clicks\", \"impressions\", \"conversions\", \"cost\", \"video_completions\", \"video_first_quartile_completions\", \"video_midpoint_completions\", \"video_third_quartile_completions\", \"campaign_objective\", \"total_engagements\", \"landing_page_clicks\", \"conversion_value\", \"video_views\", \"leads\", \"campaign_name\", \"line_item_name\", \"clicks\", \"impressions\", \"cost\", \"promoted_video_views_100\", \"promoted_video_views_25\", \"promoted_video_views_50\", \"promoted_video_views_75\", \"link_clicks\"]]"
   ]
  },
  {
   "cell_type": "code",
   "execution_count": 12,
   "metadata": {},
   "outputs": [],
   "source": [
    "df_linkedIn_paidMedia_Twitter.to_csv('df_linkedIn_paidMedia_Twitter_Reducido.csv')"
   ]
  },
  {
   "cell_type": "markdown",
   "metadata": {},
   "source": [
    "#### DV360 "
   ]
  },
  {
   "cell_type": "code",
   "execution_count": 4,
   "metadata": {},
   "outputs": [
    {
     "name": "stderr",
     "output_type": "stream",
     "text": [
      "C:\\Users\\Federico.Cremer\\AppData\\Local\\Temp\\ipykernel_3988\\1702416953.py:1: DtypeWarning: Columns (6,8,9,10,11,22,23,24,44,45,46,48,50,51,52) have mixed types. Specify dtype option on import or set low_memory=False.\n",
      "  df_DV360 = pd.read_csv('df_dv360.csv')\n"
     ]
    }
   ],
   "source": [
    "df_DV360 = pd.read_csv('df_dv360.csv')"
   ]
  },
  {
   "cell_type": "code",
   "execution_count": 6,
   "metadata": {},
   "outputs": [],
   "source": [
    "df_DV360 = df_DV360.loc[: , columns_dv360]"
   ]
  },
  {
   "cell_type": "code",
   "execution_count": 7,
   "metadata": {},
   "outputs": [],
   "source": [
    "df_DV360.to_csv('df_DV360_Reducido.csv')"
   ]
  },
  {
   "cell_type": "markdown",
   "metadata": {},
   "source": [
    "#### GoogleAds"
   ]
  },
  {
   "cell_type": "code",
   "execution_count": 4,
   "metadata": {},
   "outputs": [],
   "source": [
    "df_GAds = dd.read_csv('df_GoogleAds.csv')\n",
    "\n",
    "df_GAds.compute()"
   ]
  },
  {
   "cell_type": "code",
   "execution_count": null,
   "metadata": {},
   "outputs": [],
   "source": [
    "df_GAds = df_GAds.loc[: , columns_GoogleAds]"
   ]
  },
  {
   "cell_type": "code",
   "execution_count": null,
   "metadata": {},
   "outputs": [],
   "source": [
    "df_GAds.to_csv('df_GAds_Reducido.csv')"
   ]
  },
  {
   "cell_type": "markdown",
   "metadata": {},
   "source": [
    "#### Facebook"
   ]
  },
  {
   "cell_type": "code",
   "execution_count": null,
   "metadata": {},
   "outputs": [],
   "source": [
    "df_fb = pd.read_csv('df_facebook.csv')"
   ]
  },
  {
   "cell_type": "code",
   "execution_count": null,
   "metadata": {},
   "outputs": [],
   "source": [
    "df_fb = df_fb.loc[: , columns_Facebook]"
   ]
  },
  {
   "cell_type": "code",
   "execution_count": null,
   "metadata": {},
   "outputs": [],
   "source": [
    "df_fb.to_csv('df_fb_Reducido.csv')"
   ]
  },
  {
   "cell_type": "markdown",
   "metadata": {},
   "source": [
    "#### Join/Merge de Dataframes reducidos a uno solo"
   ]
  },
  {
   "cell_type": "code",
   "execution_count": null,
   "metadata": {},
   "outputs": [],
   "source": []
  },
  {
   "cell_type": "code",
   "execution_count": null,
   "metadata": {},
   "outputs": [],
   "source": []
  },
  {
   "cell_type": "code",
   "execution_count": null,
   "metadata": {},
   "outputs": [],
   "source": []
  },
  {
   "cell_type": "code",
   "execution_count": null,
   "metadata": {},
   "outputs": [],
   "source": [
    "print(\"DV360\")\n",
    "df_dv360 = client.merge_tables_from_dataset('DV360', columns=columns_dv360)"
   ]
  },
  {
   "cell_type": "code",
   "execution_count": 4,
   "metadata": {},
   "outputs": [],
   "source": [
    "df_dv360.to_csv('df_dv360.csv')"
   ]
  },
  {
   "cell_type": "code",
   "execution_count": null,
   "metadata": {},
   "outputs": [],
   "source": [
    "print(\"GoogleAds\")\n",
    "df_GoogleAds = client.merge_tables_from_dataset('GoogleAds', columns=columns_GoogleAds)"
   ]
  },
  {
   "cell_type": "code",
   "execution_count": 6,
   "metadata": {},
   "outputs": [],
   "source": [
    "df_GoogleAds.to_csv('df_GoogleAds.csv')"
   ]
  },
  {
   "cell_type": "code",
   "execution_count": null,
   "metadata": {},
   "outputs": [],
   "source": [
    "print(\"Facebook\")\n",
    "df_facebook = client.merge_tables_from_dataset('Facebook', columns=columns_Facebook)"
   ]
  },
  {
   "cell_type": "code",
   "execution_count": null,
   "metadata": {},
   "outputs": [],
   "source": [
    "df_facebook.to_csv('df_facebook.csv')"
   ]
  },
  {
   "cell_type": "code",
   "execution_count": null,
   "metadata": {},
   "outputs": [],
   "source": [
    "print(\"LinkedIn\")\n",
    "df_linkedin = client.merge_tables_from_dataset('LinkedIn', columns=columns_LinkedIn)"
   ]
  },
  {
   "cell_type": "code",
   "execution_count": 8,
   "metadata": {},
   "outputs": [],
   "source": [
    "df_linkedin.to_csv('df_linkedin.csv')"
   ]
  },
  {
   "cell_type": "code",
   "execution_count": null,
   "metadata": {},
   "outputs": [],
   "source": [
    "print(\"Paid_Media\")\n",
    "df_paid_media = client.merge_tables_from_dataset('Paid_Media', columns=columns_Paid_Media)"
   ]
  },
  {
   "cell_type": "code",
   "execution_count": null,
   "metadata": {},
   "outputs": [],
   "source": [
    "df_paid_media.to_csv('df_paid_media.csv')"
   ]
  },
  {
   "cell_type": "code",
   "execution_count": null,
   "metadata": {},
   "outputs": [],
   "source": [
    "print(\"Twitter\")\n",
    "df_twitter = client.merge_tables_from_dataset('Twitter', columns=columns_Twitter)"
   ]
  },
  {
   "cell_type": "code",
   "execution_count": null,
   "metadata": {},
   "outputs": [],
   "source": [
    "df_twitter.to_csv('df_twitter.csv')"
   ]
  },
  {
   "cell_type": "code",
   "execution_count": null,
   "metadata": {},
   "outputs": [],
   "source": [
    "#list_datasets_2 = [\"LinkedIn\", \"Paid_Media\", \"Twitter\"]\n",
    "\n",
    "#print(\"MERGE: LinkedIn\", \"Paid_Media\", \"Twitter\")\n",
    "#df_total_all_datasets_2 = client.merge_all_datasets(list_of_selected_datasets= list_datasets_2, columns=columns)"
   ]
  },
  {
   "cell_type": "code",
   "execution_count": null,
   "metadata": {},
   "outputs": [],
   "source": [
    "#df_total_all_datasets_2"
   ]
  },
  {
   "cell_type": "code",
   "execution_count": 8,
   "metadata": {},
   "outputs": [],
   "source": [
    "#df_total_all_datasets_2.to_csv('linkedIn_paidMedia_Twitter.csv')"
   ]
  },
  {
   "cell_type": "code",
   "execution_count": null,
   "metadata": {},
   "outputs": [],
   "source": [
    "# Esto no corre porque no trae todos los datos bien:\n",
    "#dask_df = dd.read_csv('./*.csv', assume_missing= True)\n",
    "\n",
    "#dask_df.compute().to_csv('./cubo_master.csv')"
   ]
  },
  {
   "cell_type": "code",
   "execution_count": null,
   "metadata": {},
   "outputs": [],
   "source": [
    "#print(\"JOIN BOTH MERGES\")\n",
    "#df_total_final =  df_total_all_datasets_1.join(df_total_all_datasets_2)"
   ]
  },
  {
   "cell_type": "code",
   "execution_count": null,
   "metadata": {},
   "outputs": [],
   "source": [
    "df_linkedIn_paidMedia_Twitter = pd.read_csv('cuboMaster2.csv')\n",
    "df_total = pd.read_csv('df_dv360.csv')\n",
    "df_GAds = pd.read_csv('df_GoogleAds.csv')\n",
    "df_fb = pd.read_csv('df_facebook.csv')"
   ]
  },
  {
   "cell_type": "code",
   "execution_count": null,
   "metadata": {},
   "outputs": [],
   "source": [
    "df_total = pd.concat([df_total, df_GAds])\n",
    "df_total = pd.concat([df_total, df_fb])\n",
    "df_total = pd.concat([df_total, df_linkedin])\n",
    "df_total = pd.concat([df_total, df_paid_media])\n",
    "df_total = pd.concat([df_total, df_twitter])"
   ]
  },
  {
   "cell_type": "code",
   "execution_count": null,
   "metadata": {},
   "outputs": [],
   "source": [
    "df_total.head(5)"
   ]
  },
  {
   "cell_type": "code",
   "execution_count": null,
   "metadata": {},
   "outputs": [],
   "source": [
    "print(\"TO CSV\")\n",
    "df_total.to_csv('cuboMaster.csv')"
   ]
  },
  {
   "cell_type": "code",
   "execution_count": null,
   "metadata": {},
   "outputs": [],
   "source": [
    "print(\"UPLOAD TO BIGQUERY\")\n",
    "client.client.load_table_from_dataframe(df_total, destination= 'claro-peru-trasabilidad.cubo_test1.cubov1')\n",
    "\n",
    "print('The program has finished.')"
   ]
  }
 ],
 "metadata": {
  "kernelspec": {
   "display_name": "Python 3.9.7 ('base')",
   "language": "python",
   "name": "python3"
  },
  "language_info": {
   "codemirror_mode": {
    "name": "ipython",
    "version": 3
   },
   "file_extension": ".py",
   "mimetype": "text/x-python",
   "name": "python",
   "nbconvert_exporter": "python",
   "pygments_lexer": "ipython3",
   "version": "3.9.7"
  },
  "orig_nbformat": 4,
  "vscode": {
   "interpreter": {
    "hash": "ebc16a5ec429c0d0786ef0818039d9715fdf20938ad999afd5ba7dce4716b298"
   }
  }
 },
 "nbformat": 4,
 "nbformat_minor": 2
}
