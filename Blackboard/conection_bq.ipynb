{
 "cells": [
  {
   "cell_type": "code",
   "execution_count": 153,
   "metadata": {},
   "outputs": [],
   "source": [
    "from packages.tools import ConnectionBigQuery\n",
    "import pandas as pd\n",
    "import numpy as np\n"
   ]
  },
  {
   "cell_type": "code",
   "execution_count": 2,
   "metadata": {},
   "outputs": [],
   "source": [
    "import datetime\n",
    "from datetime import timedelta\n",
    "import numpy as np\n",
    "\n",
    "TODAY = datetime.datetime.today().date() - timedelta(days=1)"
   ]
  },
  {
   "cell_type": "code",
   "execution_count": 3,
   "metadata": {},
   "outputs": [
    {
     "data": {
      "text/plain": [
       "datetime.date(2022, 9, 15)"
      ]
     },
     "execution_count": 3,
     "metadata": {},
     "output_type": "execute_result"
    }
   ],
   "source": [
    "TODAY"
   ]
  },
  {
   "cell_type": "code",
   "execution_count": null,
   "metadata": {},
   "outputs": [],
   "source": [
    "client = ConnectionBigQuery(path_credentials=\"C:/Users/Federico.Cremer/OneDrive - Havas/Desktop/Science/Claro Peru/credentials.json\",project_id=\"claro-peru-trasabilidad\")\n",
    "\n",
    "client.connect()\n",
    "\n",
    "query_job = client.complex_query(select='*', dataset='Facebook', table='FBADS_AGE_GENDER_20220831', order_by='cost DESC', limit=10)\n",
    "\n",
    "#response = query_job.result()\n",
    "\n",
    "query_job\n",
    "\n",
    "#10.8014"
   ]
  },
  {
   "cell_type": "code",
   "execution_count": 179,
   "metadata": {},
   "outputs": [],
   "source": [
    "datasets = client.client.list_tables('claro-peru-trasabilidad.LinkedIn') #('SELECT * FROM claro-peru-trasabilidad.LinkedIn').result()"
   ]
  },
  {
   "cell_type": "code",
   "execution_count": 180,
   "metadata": {},
   "outputs": [],
   "source": [
    "list_of_tables = [x.table_id for x in datasets]"
   ]
  },
  {
   "cell_type": "code",
   "execution_count": 199,
   "metadata": {},
   "outputs": [
    {
     "data": {
      "text/plain": [
       "['73037014',\n",
       " 'DV360',\n",
       " 'Facebook',\n",
       " 'GoogleAds',\n",
       " 'LinkedIn',\n",
       " 'Offline',\n",
       " 'Paid_Media',\n",
       " 'Twitter',\n",
       " 'facturacion_test01',\n",
       " 'rrss_quejas']"
      ]
     },
     "execution_count": 199,
     "metadata": {},
     "output_type": "execute_result"
    }
   ],
   "source": [
    "[x.dataset_id for x in client.client.list_datasets(project='claro-peru-trasabilidad')]"
   ]
  },
  {
   "cell_type": "code",
   "execution_count": null,
   "metadata": {},
   "outputs": [],
   "source": [
    "'''\n",
    "•\tDV360\n",
    "•\tFB\n",
    "•\tGoogle Ads\n",
    "•\tLinkedin\n",
    "•\tPaid Media\n",
    "•\tTwitter\n",
    "'''"
   ]
  },
  {
   "cell_type": "code",
   "execution_count": 192,
   "metadata": {},
   "outputs": [],
   "source": [
    "import dask\n",
    "from dask import delayed\n",
    "\n",
    "lista_dfs = []\n",
    "\n",
    "for table in list_of_tables:\n",
    "\n",
    "    df = delayed(client.simple_query)(select='*', dataset='LinkedIn',table=table)\n",
    "\n",
    "    lista_dfs.append(df)\n",
    "\n",
    "\n",
    "list_dfs_total = dask.compute(lista_dfs)\n",
    "\n",
    "df_total = pd.concat(list_dfs_total[0])"
   ]
  },
  {
   "cell_type": "code",
   "execution_count": null,
   "metadata": {},
   "outputs": [],
   "source": [
    "df_total"
   ]
  },
  {
   "cell_type": "code",
   "execution_count": null,
   "metadata": {},
   "outputs": [],
   "source": [
    "def merge_all_tables_from_dataset() -> pd.DataFrame:\n",
    "\n",
    "    \n",
    "    \n",
    "\n",
    "\n",
    "    return "
   ]
  },
  {
   "cell_type": "code",
   "execution_count": null,
   "metadata": {},
   "outputs": [],
   "source": []
  }
 ],
 "metadata": {
  "kernelspec": {
   "display_name": "Python 3.9.7 ('base')",
   "language": "python",
   "name": "python3"
  },
  "language_info": {
   "codemirror_mode": {
    "name": "ipython",
    "version": 3
   },
   "file_extension": ".py",
   "mimetype": "text/x-python",
   "name": "python",
   "nbconvert_exporter": "python",
   "pygments_lexer": "ipython3",
   "version": "3.9.13"
  },
  "orig_nbformat": 4,
  "vscode": {
   "interpreter": {
    "hash": "ebc16a5ec429c0d0786ef0818039d9715fdf20938ad999afd5ba7dce4716b298"
   }
  }
 },
 "nbformat": 4,
 "nbformat_minor": 2
}
