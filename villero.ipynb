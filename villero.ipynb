{
 "cells": [
  {
   "cell_type": "code",
   "execution_count": 1,
   "metadata": {},
   "outputs": [],
   "source": [
    "from packages.tools import ConnectionBigQuery\n",
    "from packages.claro_paths import ClaroPath\n",
    "import pandas as pd\n",
    "import numpy as np\n",
    "import dask.dataframe as dd"
   ]
  },
  {
   "cell_type": "code",
   "execution_count": 2,
   "metadata": {},
   "outputs": [],
   "source": [
    "client = ConnectionBigQuery(path_credentials=\"C:/Users/Federico.Cremer/OneDrive - Havas/Desktop/Science/Claro Peru/credentials.json\",project_id=\"claro-peru-trasabilidad\")\n",
    "\n",
    "client.connect()"
   ]
  },
  {
   "cell_type": "code",
   "execution_count": 3,
   "metadata": {},
   "outputs": [
    {
     "name": "stdout",
     "output_type": "stream",
     "text": [
      "The program is going to start:\n",
      "DV360\n"
     ]
    }
   ],
   "source": [
    "print(\"The program is going to start:\")\n",
    "\n",
    "list_datasets_1 = [\"DV360\", \"GoogleAds\"]\n",
    "\n",
    "print(\"DV360\")\n",
    "df_dv360 = client.merge_tables_from_dataset('DV360')"
   ]
  },
  {
   "cell_type": "code",
   "execution_count": 4,
   "metadata": {},
   "outputs": [],
   "source": [
    "df_dv360.to_csv('df_dv360.csv')"
   ]
  },
  {
   "cell_type": "code",
   "execution_count": 5,
   "metadata": {},
   "outputs": [
    {
     "name": "stdout",
     "output_type": "stream",
     "text": [
      "GoogleAds\n"
     ]
    }
   ],
   "source": [
    "print(\"GoogleAds\")\n",
    "df_GoogleAds = client.merge_tables_from_dataset('GoogleAds')"
   ]
  },
  {
   "cell_type": "code",
   "execution_count": 6,
   "metadata": {},
   "outputs": [],
   "source": [
    "df_GoogleAds.to_csv('df_GoogleAds.csv')"
   ]
  },
  {
   "cell_type": "code",
   "execution_count": 7,
   "metadata": {},
   "outputs": [
    {
     "name": "stdout",
     "output_type": "stream",
     "text": [
      "Facebook\n"
     ]
    }
   ],
   "source": [
    "print(\"Facebook\")\n",
    "df_facebook = client.merge_tables_from_dataset('Facebook')"
   ]
  },
  {
   "cell_type": "code",
   "execution_count": 8,
   "metadata": {},
   "outputs": [],
   "source": [
    "df_facebook.to_csv('df_facebook.csv')"
   ]
  },
  {
   "cell_type": "code",
   "execution_count": 3,
   "metadata": {},
   "outputs": [
    {
     "name": "stdout",
     "output_type": "stream",
     "text": [
      "SECOND MERGE\n",
      "The MERGE has started. LETS GO AGAIN\n",
      "LinkedIn is going to be merged\n",
      "LinkedIn merged\n",
      "Paid_Media is going to be merged\n",
      "Paid_Media merged\n",
      "Twitter is going to be merged\n",
      "Twitter merged\n",
      "Full dataset merged\n"
     ]
    }
   ],
   "source": [
    "list_datasets_2 = [\"LinkedIn\", \"Paid_Media\", \"Twitter\"]\n",
    "\n",
    "print(\"SECOND MERGE\")\n",
    "df_total_all_datasets_2 = client.merge_all_datasets(list_of_selected_datasets= list_datasets_2)"
   ]
  },
  {
   "cell_type": "code",
   "execution_count": 6,
   "metadata": {},
   "outputs": [
    {
     "data": {
      "text/html": [
       "<div>\n",
       "<style scoped>\n",
       "    .dataframe tbody tr th:only-of-type {\n",
       "        vertical-align: middle;\n",
       "    }\n",
       "\n",
       "    .dataframe tbody tr th {\n",
       "        vertical-align: top;\n",
       "    }\n",
       "\n",
       "    .dataframe thead th {\n",
       "        text-align: right;\n",
       "    }\n",
       "</style>\n",
       "<table border=\"1\" class=\"dataframe\">\n",
       "  <thead>\n",
       "    <tr style=\"text-align: right;\">\n",
       "      <th></th>\n",
       "      <th>currency</th>\n",
       "      <th>account_id</th>\n",
       "      <th>account_name</th>\n",
       "      <th>campaign_group_end_date</th>\n",
       "      <th>campaign_group_id</th>\n",
       "      <th>campaign_group_name</th>\n",
       "      <th>campaign_id</th>\n",
       "      <th>campaign_name</th>\n",
       "      <th>creative_dsc_name</th>\n",
       "      <th>creative_id</th>\n",
       "      <th>...</th>\n",
       "      <th>DESCRIPCION_DEL_PLAN_ADQUIRIDO</th>\n",
       "      <th>UGIS</th>\n",
       "      <th>ADD_ON</th>\n",
       "      <th>PRECIO_PAQUETE</th>\n",
       "      <th>PRECIO_ADICIONAL</th>\n",
       "      <th>PRODUCTO</th>\n",
       "      <th>FULL_CLARO</th>\n",
       "      <th>POR_DONDE_SE_ENTERO</th>\n",
       "      <th>AGENDADO</th>\n",
       "      <th>RESULTADO</th>\n",
       "    </tr>\n",
       "  </thead>\n",
       "  <tbody>\n",
       "    <tr>\n",
       "      <th>0</th>\n",
       "      <td>USD</td>\n",
       "      <td>506730622</td>\n",
       "      <td>ag_claronegociosperu_cis_2020_pe</td>\n",
       "      <td>NaT</td>\n",
       "      <td>608374054</td>\n",
       "      <td>Default Campaign Group</td>\n",
       "      <td>174294226</td>\n",
       "      <td>CLARO_CLAROEMPRESAS_CLARO EMPRESAS AON_EQU_VVW...</td>\n",
       "      <td></td>\n",
       "      <td>156891896</td>\n",
       "      <td>...</td>\n",
       "      <td>NaN</td>\n",
       "      <td>NaN</td>\n",
       "      <td>NaN</td>\n",
       "      <td>NaN</td>\n",
       "      <td>NaN</td>\n",
       "      <td>NaN</td>\n",
       "      <td>NaN</td>\n",
       "      <td>NaN</td>\n",
       "      <td>NaN</td>\n",
       "      <td>NaN</td>\n",
       "    </tr>\n",
       "    <tr>\n",
       "      <th>1</th>\n",
       "      <td>USD</td>\n",
       "      <td>506730622</td>\n",
       "      <td>ag_claronegociosperu_cis_2020_pe</td>\n",
       "      <td>NaT</td>\n",
       "      <td>608374054</td>\n",
       "      <td>Default Campaign Group</td>\n",
       "      <td>174294226</td>\n",
       "      <td>CLARO_CLAROEMPRESAS_CLARO EMPRESAS AON_EQU_VVW...</td>\n",
       "      <td></td>\n",
       "      <td>171223673</td>\n",
       "      <td>...</td>\n",
       "      <td>NaN</td>\n",
       "      <td>NaN</td>\n",
       "      <td>NaN</td>\n",
       "      <td>NaN</td>\n",
       "      <td>NaN</td>\n",
       "      <td>NaN</td>\n",
       "      <td>NaN</td>\n",
       "      <td>NaN</td>\n",
       "      <td>NaN</td>\n",
       "      <td>NaN</td>\n",
       "    </tr>\n",
       "    <tr>\n",
       "      <th>2</th>\n",
       "      <td>USD</td>\n",
       "      <td>506730622</td>\n",
       "      <td>ag_claronegociosperu_cis_2020_pe</td>\n",
       "      <td>NaT</td>\n",
       "      <td>608374054</td>\n",
       "      <td>Default Campaign Group</td>\n",
       "      <td>175586066</td>\n",
       "      <td>CLARO_CLAROEMPRESAS_CLARO EMPRESAS AON_EQU_CON...</td>\n",
       "      <td></td>\n",
       "      <td>157480066</td>\n",
       "      <td>...</td>\n",
       "      <td>NaN</td>\n",
       "      <td>NaN</td>\n",
       "      <td>NaN</td>\n",
       "      <td>NaN</td>\n",
       "      <td>NaN</td>\n",
       "      <td>NaN</td>\n",
       "      <td>NaN</td>\n",
       "      <td>NaN</td>\n",
       "      <td>NaN</td>\n",
       "      <td>NaN</td>\n",
       "    </tr>\n",
       "    <tr>\n",
       "      <th>3</th>\n",
       "      <td>USD</td>\n",
       "      <td>506730622</td>\n",
       "      <td>ag_claronegociosperu_cis_2020_pe</td>\n",
       "      <td>NaT</td>\n",
       "      <td>608374054</td>\n",
       "      <td>Default Campaign Group</td>\n",
       "      <td>175586526</td>\n",
       "      <td>CLARO_CLAROEMPRESAS_CLARO EMPRESAS AON_EQU_CON...</td>\n",
       "      <td></td>\n",
       "      <td>157480826</td>\n",
       "      <td>...</td>\n",
       "      <td>NaN</td>\n",
       "      <td>NaN</td>\n",
       "      <td>NaN</td>\n",
       "      <td>NaN</td>\n",
       "      <td>NaN</td>\n",
       "      <td>NaN</td>\n",
       "      <td>NaN</td>\n",
       "      <td>NaN</td>\n",
       "      <td>NaN</td>\n",
       "      <td>NaN</td>\n",
       "    </tr>\n",
       "    <tr>\n",
       "      <th>4</th>\n",
       "      <td>USD</td>\n",
       "      <td>506730622</td>\n",
       "      <td>ag_claronegociosperu_cis_2020_pe</td>\n",
       "      <td>NaT</td>\n",
       "      <td>608374054</td>\n",
       "      <td>Default Campaign Group</td>\n",
       "      <td>175586526</td>\n",
       "      <td>CLARO_CLAROEMPRESAS_CLARO EMPRESAS AON_EQU_CON...</td>\n",
       "      <td></td>\n",
       "      <td>157962996</td>\n",
       "      <td>...</td>\n",
       "      <td>NaN</td>\n",
       "      <td>NaN</td>\n",
       "      <td>NaN</td>\n",
       "      <td>NaN</td>\n",
       "      <td>NaN</td>\n",
       "      <td>NaN</td>\n",
       "      <td>NaN</td>\n",
       "      <td>NaN</td>\n",
       "      <td>NaN</td>\n",
       "      <td>NaN</td>\n",
       "    </tr>\n",
       "    <tr>\n",
       "      <th>...</th>\n",
       "      <td>...</td>\n",
       "      <td>...</td>\n",
       "      <td>...</td>\n",
       "      <td>...</td>\n",
       "      <td>...</td>\n",
       "      <td>...</td>\n",
       "      <td>...</td>\n",
       "      <td>...</td>\n",
       "      <td>...</td>\n",
       "      <td>...</td>\n",
       "      <td>...</td>\n",
       "      <td>...</td>\n",
       "      <td>...</td>\n",
       "      <td>...</td>\n",
       "      <td>...</td>\n",
       "      <td>...</td>\n",
       "      <td>...</td>\n",
       "      <td>...</td>\n",
       "      <td>...</td>\n",
       "      <td>...</td>\n",
       "      <td>...</td>\n",
       "    </tr>\n",
       "    <tr>\n",
       "      <th>81229</th>\n",
       "      <td>NaN</td>\n",
       "      <td>NaN</td>\n",
       "      <td>NaN</td>\n",
       "      <td>NaT</td>\n",
       "      <td>NaN</td>\n",
       "      <td>NaN</td>\n",
       "      <td>NaN</td>\n",
       "      <td>NaN</td>\n",
       "      <td>NaN</td>\n",
       "      <td>NaN</td>\n",
       "      <td>...</td>\n",
       "      <td>null</td>\n",
       "      <td>null</td>\n",
       "      <td>null</td>\n",
       "      <td>0.00</td>\n",
       "      <td>0.00</td>\n",
       "      <td>Hogar</td>\n",
       "      <td>null</td>\n",
       "      <td>null</td>\n",
       "      <td>null</td>\n",
       "      <td>null</td>\n",
       "    </tr>\n",
       "    <tr>\n",
       "      <th>81230</th>\n",
       "      <td>NaN</td>\n",
       "      <td>NaN</td>\n",
       "      <td>NaN</td>\n",
       "      <td>NaT</td>\n",
       "      <td>NaN</td>\n",
       "      <td>NaN</td>\n",
       "      <td>NaN</td>\n",
       "      <td>NaN</td>\n",
       "      <td>NaN</td>\n",
       "      <td>NaN</td>\n",
       "      <td>...</td>\n",
       "      <td>null</td>\n",
       "      <td>null</td>\n",
       "      <td>null</td>\n",
       "      <td>0.00</td>\n",
       "      <td>0.00</td>\n",
       "      <td>Hogar</td>\n",
       "      <td>null</td>\n",
       "      <td>null</td>\n",
       "      <td>null</td>\n",
       "      <td>null</td>\n",
       "    </tr>\n",
       "    <tr>\n",
       "      <th>81231</th>\n",
       "      <td>NaN</td>\n",
       "      <td>NaN</td>\n",
       "      <td>NaN</td>\n",
       "      <td>NaT</td>\n",
       "      <td>NaN</td>\n",
       "      <td>NaN</td>\n",
       "      <td>NaN</td>\n",
       "      <td>NaN</td>\n",
       "      <td>NaN</td>\n",
       "      <td>NaN</td>\n",
       "      <td>...</td>\n",
       "      <td>null</td>\n",
       "      <td>null</td>\n",
       "      <td>null</td>\n",
       "      <td>0.00</td>\n",
       "      <td>0.00</td>\n",
       "      <td>Hogar</td>\n",
       "      <td>null</td>\n",
       "      <td>null</td>\n",
       "      <td>null</td>\n",
       "      <td>null</td>\n",
       "    </tr>\n",
       "    <tr>\n",
       "      <th>81232</th>\n",
       "      <td>NaN</td>\n",
       "      <td>NaN</td>\n",
       "      <td>NaN</td>\n",
       "      <td>NaT</td>\n",
       "      <td>NaN</td>\n",
       "      <td>NaN</td>\n",
       "      <td>NaN</td>\n",
       "      <td>NaN</td>\n",
       "      <td>NaN</td>\n",
       "      <td>NaN</td>\n",
       "      <td>...</td>\n",
       "      <td>null</td>\n",
       "      <td>null</td>\n",
       "      <td>null</td>\n",
       "      <td>0.00</td>\n",
       "      <td>0.00</td>\n",
       "      <td>Hogar</td>\n",
       "      <td>null</td>\n",
       "      <td>null</td>\n",
       "      <td>null</td>\n",
       "      <td>null</td>\n",
       "    </tr>\n",
       "    <tr>\n",
       "      <th>81233</th>\n",
       "      <td>NaN</td>\n",
       "      <td>NaN</td>\n",
       "      <td>NaN</td>\n",
       "      <td>NaT</td>\n",
       "      <td>NaN</td>\n",
       "      <td>NaN</td>\n",
       "      <td>NaN</td>\n",
       "      <td>NaN</td>\n",
       "      <td>NaN</td>\n",
       "      <td>NaN</td>\n",
       "      <td>...</td>\n",
       "      <td>null</td>\n",
       "      <td>null</td>\n",
       "      <td>null</td>\n",
       "      <td>0.00</td>\n",
       "      <td>0.00</td>\n",
       "      <td>Hogar</td>\n",
       "      <td>null</td>\n",
       "      <td>null</td>\n",
       "      <td>null</td>\n",
       "      <td>null</td>\n",
       "    </tr>\n",
       "  </tbody>\n",
       "</table>\n",
       "<p>2042692 rows × 170 columns</p>\n",
       "</div>"
      ],
      "text/plain": [
       "      currency account_id                      account_name  \\\n",
       "0          USD  506730622  ag_claronegociosperu_cis_2020_pe   \n",
       "1          USD  506730622  ag_claronegociosperu_cis_2020_pe   \n",
       "2          USD  506730622  ag_claronegociosperu_cis_2020_pe   \n",
       "3          USD  506730622  ag_claronegociosperu_cis_2020_pe   \n",
       "4          USD  506730622  ag_claronegociosperu_cis_2020_pe   \n",
       "...        ...        ...                               ...   \n",
       "81229      NaN        NaN                               NaN   \n",
       "81230      NaN        NaN                               NaN   \n",
       "81231      NaN        NaN                               NaN   \n",
       "81232      NaN        NaN                               NaN   \n",
       "81233      NaN        NaN                               NaN   \n",
       "\n",
       "      campaign_group_end_date campaign_group_id     campaign_group_name  \\\n",
       "0                         NaT         608374054  Default Campaign Group   \n",
       "1                         NaT         608374054  Default Campaign Group   \n",
       "2                         NaT         608374054  Default Campaign Group   \n",
       "3                         NaT         608374054  Default Campaign Group   \n",
       "4                         NaT         608374054  Default Campaign Group   \n",
       "...                       ...               ...                     ...   \n",
       "81229                     NaT               NaN                     NaN   \n",
       "81230                     NaT               NaN                     NaN   \n",
       "81231                     NaT               NaN                     NaN   \n",
       "81232                     NaT               NaN                     NaN   \n",
       "81233                     NaT               NaN                     NaN   \n",
       "\n",
       "      campaign_id                                      campaign_name  \\\n",
       "0       174294226  CLARO_CLAROEMPRESAS_CLARO EMPRESAS AON_EQU_VVW...   \n",
       "1       174294226  CLARO_CLAROEMPRESAS_CLARO EMPRESAS AON_EQU_VVW...   \n",
       "2       175586066  CLARO_CLAROEMPRESAS_CLARO EMPRESAS AON_EQU_CON...   \n",
       "3       175586526  CLARO_CLAROEMPRESAS_CLARO EMPRESAS AON_EQU_CON...   \n",
       "4       175586526  CLARO_CLAROEMPRESAS_CLARO EMPRESAS AON_EQU_CON...   \n",
       "...           ...                                                ...   \n",
       "81229         NaN                                                NaN   \n",
       "81230         NaN                                                NaN   \n",
       "81231         NaN                                                NaN   \n",
       "81232         NaN                                                NaN   \n",
       "81233         NaN                                                NaN   \n",
       "\n",
       "      creative_dsc_name creative_id  ... DESCRIPCION_DEL_PLAN_ADQUIRIDO  UGIS  \\\n",
       "0                         156891896  ...                            NaN   NaN   \n",
       "1                         171223673  ...                            NaN   NaN   \n",
       "2                         157480066  ...                            NaN   NaN   \n",
       "3                         157480826  ...                            NaN   NaN   \n",
       "4                         157962996  ...                            NaN   NaN   \n",
       "...                 ...         ...  ...                            ...   ...   \n",
       "81229               NaN         NaN  ...                           null  null   \n",
       "81230               NaN         NaN  ...                           null  null   \n",
       "81231               NaN         NaN  ...                           null  null   \n",
       "81232               NaN         NaN  ...                           null  null   \n",
       "81233               NaN         NaN  ...                           null  null   \n",
       "\n",
       "      ADD_ON PRECIO_PAQUETE PRECIO_ADICIONAL PRODUCTO FULL_CLARO  \\\n",
       "0        NaN            NaN              NaN      NaN        NaN   \n",
       "1        NaN            NaN              NaN      NaN        NaN   \n",
       "2        NaN            NaN              NaN      NaN        NaN   \n",
       "3        NaN            NaN              NaN      NaN        NaN   \n",
       "4        NaN            NaN              NaN      NaN        NaN   \n",
       "...      ...            ...              ...      ...        ...   \n",
       "81229   null           0.00             0.00    Hogar       null   \n",
       "81230   null           0.00             0.00    Hogar       null   \n",
       "81231   null           0.00             0.00    Hogar       null   \n",
       "81232   null           0.00             0.00    Hogar       null   \n",
       "81233   null           0.00             0.00    Hogar       null   \n",
       "\n",
       "      POR_DONDE_SE_ENTERO AGENDADO RESULTADO  \n",
       "0                     NaN      NaN       NaN  \n",
       "1                     NaN      NaN       NaN  \n",
       "2                     NaN      NaN       NaN  \n",
       "3                     NaN      NaN       NaN  \n",
       "4                     NaN      NaN       NaN  \n",
       "...                   ...      ...       ...  \n",
       "81229                null     null      null  \n",
       "81230                null     null      null  \n",
       "81231                null     null      null  \n",
       "81232                null     null      null  \n",
       "81233                null     null      null  \n",
       "\n",
       "[2042692 rows x 170 columns]"
      ]
     },
     "execution_count": 6,
     "metadata": {},
     "output_type": "execute_result"
    }
   ],
   "source": [
    "df_total_all_datasets_2"
   ]
  },
  {
   "cell_type": "code",
   "execution_count": 8,
   "metadata": {},
   "outputs": [],
   "source": [
    "df_total_all_datasets_2.to_csv('cuboMaster2.csv')"
   ]
  },
  {
   "cell_type": "code",
   "execution_count": null,
   "metadata": {},
   "outputs": [],
   "source": [
    "dask_df = dd.read_csv('./*.csv', assume_missing= True)\n",
    "\n",
    "dask_df.compute().to_csv('./cubo_master.csv')"
   ]
  },
  {
   "cell_type": "code",
   "execution_count": 5,
   "metadata": {},
   "outputs": [
    {
     "name": "stdout",
     "output_type": "stream",
     "text": [
      "JOIN BOTH MERGES\n"
     ]
    }
   ],
   "source": [
    "print(\"JOIN BOTH MERGES\")\n",
    "df_total_final =  df_total_all_datasets_1.join(df_total_all_datasets_2)"
   ]
  },
  {
   "cell_type": "code",
   "execution_count": 6,
   "metadata": {},
   "outputs": [
    {
     "name": "stdout",
     "output_type": "stream",
     "text": [
      "TO CSV\n"
     ]
    }
   ],
   "source": [
    "print(\"TO CSV\")\n",
    "df_total_final.to_csv('cuboMaster.csv')"
   ]
  },
  {
   "cell_type": "code",
   "execution_count": 7,
   "metadata": {},
   "outputs": [
    {
     "name": "stdout",
     "output_type": "stream",
     "text": [
      "UPLOAD TO BIGQUERY\n",
      "The program has finished.\n"
     ]
    }
   ],
   "source": [
    "print(\"UPLOAD TO BIGQUERY\")\n",
    "client.client.load_table_from_dataframe(df_total_final, destination= 'claro-peru-trasabilidad.cubo_test1.cubov1')\n",
    "\n",
    "print('The program has finished.')"
   ]
  },
  {
   "cell_type": "code",
   "execution_count": 4,
   "metadata": {},
   "outputs": [
    {
     "name": "stderr",
     "output_type": "stream",
     "text": [
      "C:\\Users\\Federico.Cremer\\AppData\\Local\\Temp\\ipykernel_1612\\2702815793.py:1: DtypeWarning: Columns (1,2,3,4,6,7,8,9,12,13,14,15,16,17,18,19,20,21,22,23,24,65,67,68,69,71,72,73,74,76,80,81,83,84,85,86,87,89,91,92,93,94,95,97,98,101,102,103,106,107,109,110,111,112,114,137,138,139,140,141,142,143,144,147,150,151,152,154,155,156,157,158,159,161,166,167,168) have mixed types. Specify dtype option on import or set low_memory=False.\n",
      "  df_cuboMaster2 = pd.read_csv('cuboMaster2.csv')\n",
      "C:\\Users\\Federico.Cremer\\AppData\\Local\\Temp\\ipykernel_1612\\2702815793.py:2: DtypeWarning: Columns (6,8,9,10,11,22,23,24,44,45,46,48,50,51,52) have mixed types. Specify dtype option on import or set low_memory=False.\n",
      "  df_dv360 = pd.read_csv('df_dv360.csv')\n"
     ]
    },
    {
     "name": "stdout",
     "output_type": "stream",
     "text": [
      "Unexpected exception formatting exception. Falling back to standard exception\n"
     ]
    },
    {
     "name": "stderr",
     "output_type": "stream",
     "text": [
      "Traceback (most recent call last):\n",
      "  File \"c:\\Users\\Federico.Cremer\\Anaconda3\\lib\\site-packages\\IPython\\core\\interactiveshell.py\", line 3398, in run_code\n",
      "    exec(code_obj, self.user_global_ns, self.user_ns)\n",
      "  File \"C:\\Users\\Federico.Cremer\\AppData\\Local\\Temp\\ipykernel_1612\\2702815793.py\", line 3, in <cell line: 3>\n",
      "    df_GAds = pd.read_csv('df_GoogleAds.csv')\n",
      "  File \"c:\\Users\\Federico.Cremer\\Anaconda3\\lib\\site-packages\\pandas\\util\\_decorators.py\", line 311, in wrapper\n",
      "    return func(*args, **kwargs)\n",
      "  File \"c:\\Users\\Federico.Cremer\\Anaconda3\\lib\\site-packages\\pandas\\io\\parsers\\readers.py\", line 680, in read_csv\n",
      "    return _read(filepath_or_buffer, kwds)\n",
      "  File \"c:\\Users\\Federico.Cremer\\Anaconda3\\lib\\site-packages\\pandas\\io\\parsers\\readers.py\", line 581, in _read\n",
      "    return parser.read(nrows)\n",
      "  File \"c:\\Users\\Federico.Cremer\\Anaconda3\\lib\\site-packages\\pandas\\io\\parsers\\readers.py\", line 1255, in read\n",
      "    index, columns, col_dict = self._engine.read(nrows)\n",
      "  File \"c:\\Users\\Federico.Cremer\\Anaconda3\\lib\\site-packages\\pandas\\io\\parsers\\c_parser_wrapper.py\", line 227, in read\n",
      "    data = _concatenate_chunks(chunks)\n",
      "  File \"c:\\Users\\Federico.Cremer\\Anaconda3\\lib\\site-packages\\pandas\\io\\parsers\\c_parser_wrapper.py\", line 394, in _concatenate_chunks\n",
      "    result[name] = np.concatenate(arrs)  # type: ignore[arg-type]\n",
      "  File \"<__array_function__ internals>\", line 5, in concatenate\n",
      "numpy.core._exceptions._ArrayMemoryError: Unable to allocate 58.8 MiB for an array with shape (7712716,) and data type object\n",
      "\n",
      "During handling of the above exception, another exception occurred:\n",
      "\n",
      "Traceback (most recent call last):\n",
      "  File \"c:\\Users\\Federico.Cremer\\Anaconda3\\lib\\site-packages\\executing\\executing.py\", line 317, in executing\n",
      "    args = executing_cache[key]\n",
      "KeyError: (<code object read_csv at 0x0000025A9FCC0F50, file \"c:\\Users\\Federico.Cremer\\Anaconda3\\lib\\site-packages\\pandas\\io\\parsers\\readers.py\", line 584>, 2588251262800, 72)\n",
      "\n",
      "During handling of the above exception, another exception occurred:\n",
      "\n",
      "Traceback (most recent call last):\n",
      "  File \"c:\\Users\\Federico.Cremer\\Anaconda3\\lib\\site-packages\\IPython\\core\\interactiveshell.py\", line 1993, in showtraceback\n",
      "    stb = self.InteractiveTB.structured_traceback(\n",
      "  File \"c:\\Users\\Federico.Cremer\\Anaconda3\\lib\\site-packages\\IPython\\core\\ultratb.py\", line 1118, in structured_traceback\n",
      "    return FormattedTB.structured_traceback(\n",
      "  File \"c:\\Users\\Federico.Cremer\\Anaconda3\\lib\\site-packages\\IPython\\core\\ultratb.py\", line 1012, in structured_traceback\n",
      "    return VerboseTB.structured_traceback(\n",
      "  File \"c:\\Users\\Federico.Cremer\\Anaconda3\\lib\\site-packages\\IPython\\core\\ultratb.py\", line 865, in structured_traceback\n",
      "    formatted_exception = self.format_exception_as_a_whole(etype, evalue, etb, number_of_lines_of_context,\n",
      "  File \"c:\\Users\\Federico.Cremer\\Anaconda3\\lib\\site-packages\\IPython\\core\\ultratb.py\", line 799, in format_exception_as_a_whole\n",
      "    self.get_records(etb, number_of_lines_of_context, tb_offset) if etb else []\n",
      "  File \"c:\\Users\\Federico.Cremer\\Anaconda3\\lib\\site-packages\\IPython\\core\\ultratb.py\", line 854, in get_records\n",
      "    return list(stack_data.FrameInfo.stack_data(etb, options=options))[tb_offset:]\n",
      "  File \"c:\\Users\\Federico.Cremer\\Anaconda3\\lib\\site-packages\\stack_data\\core.py\", line 565, in stack_data\n",
      "    yield from collapse_repeated(\n",
      "  File \"c:\\Users\\Federico.Cremer\\Anaconda3\\lib\\site-packages\\stack_data\\utils.py\", line 84, in collapse_repeated\n",
      "    yield from map(mapper, original_group)\n",
      "  File \"c:\\Users\\Federico.Cremer\\Anaconda3\\lib\\site-packages\\stack_data\\core.py\", line 555, in mapper\n",
      "    return cls(f, options)\n",
      "  File \"c:\\Users\\Federico.Cremer\\Anaconda3\\lib\\site-packages\\stack_data\\core.py\", line 520, in __init__\n",
      "    self.executing = Source.executing(frame_or_tb)\n",
      "  File \"c:\\Users\\Federico.Cremer\\Anaconda3\\lib\\site-packages\\executing\\executing.py\", line 369, in executing\n",
      "    args = find(source=cls.for_frame(frame), retry_cache=True)\n",
      "  File \"c:\\Users\\Federico.Cremer\\Anaconda3\\lib\\site-packages\\executing\\executing.py\", line 252, in for_frame\n",
      "    return cls.for_filename(frame.f_code.co_filename, frame.f_globals or {}, use_cache)\n",
      "  File \"c:\\Users\\Federico.Cremer\\Anaconda3\\lib\\site-packages\\executing\\executing.py\", line 270, in for_filename\n",
      "    result = source_cache[filename] = cls._for_filename_and_lines(filename, lines)\n",
      "  File \"c:\\Users\\Federico.Cremer\\Anaconda3\\lib\\site-packages\\executing\\executing.py\", line 281, in _for_filename_and_lines\n",
      "    result = source_cache[(filename, lines)] = cls(filename, lines)\n",
      "  File \"c:\\Users\\Federico.Cremer\\Anaconda3\\lib\\site-packages\\stack_data\\core.py\", line 79, in __init__\n",
      "    super(Source, self).__init__(*args, **kwargs)\n",
      "  File \"c:\\Users\\Federico.Cremer\\Anaconda3\\lib\\site-packages\\executing\\executing.py\", line 228, in __init__\n",
      "    self.tree = ast.parse(ast_text, filename=filename)\n",
      "  File \"c:\\Users\\Federico.Cremer\\Anaconda3\\lib\\ast.py\", line 50, in parse\n",
      "    return compile(source, filename, mode, flags,\n",
      "MemoryError\n"
     ]
    }
   ],
   "source": [
    "df_cuboMaster2 = pd.read_csv('cuboMaster2.csv')\n",
    "df_dv360 = pd.read_csv('df_dv360.csv')"
   ]
  },
  {
   "cell_type": "code",
   "execution_count": 12,
   "metadata": {},
   "outputs": [
    {
     "name": "stderr",
     "output_type": "stream",
     "text": [
      "C:\\Users\\Federico.Cremer\\AppData\\Local\\Temp\\ipykernel_1612\\1523082647.py:1: DtypeWarning: Columns (2,4,5,6,8,9,10,12,15,19,20,21,24,25,26,27,28,29,30,31,36,37,38,39,42,43,44,45,65,66,69,81,83,84,88,89,90,92,93,94,98,99,100,102,104,105,106,107,108,109,110,111,113,114,115,116,117,121,122) have mixed types. Specify dtype option on import or set low_memory=False.\n",
      "  df_GAds = pd.read_csv('df_GoogleAds.csv')\n"
     ]
    }
   ],
   "source": [
    "df_GAds = pd.read_csv('df_GoogleAds.csv')\n",
    "df_fb = pd.read_csv('df_facebook.csv')"
   ]
  },
  {
   "cell_type": "code",
   "execution_count": null,
   "metadata": {},
   "outputs": [],
   "source": [
    "df_cuboMaster2 = pd.concat([df_cuboMaster2, df_dv360])\n",
    "df_cuboMaster2 = pd.concat([df_cuboMaster2, df_GAds])\n",
    "df_cuboMaster2 = pd.concat([df_cuboMaster2, df_fb])"
   ]
  },
  {
   "cell_type": "code",
   "execution_count": null,
   "metadata": {},
   "outputs": [],
   "source": [
    "df_cuboMaster2.head(5)"
   ]
  },
  {
   "cell_type": "code",
   "execution_count": null,
   "metadata": {},
   "outputs": [],
   "source": []
  }
 ],
 "metadata": {
  "kernelspec": {
   "display_name": "Python 3.9.7 ('base')",
   "language": "python",
   "name": "python3"
  },
  "language_info": {
   "codemirror_mode": {
    "name": "ipython",
    "version": 3
   },
   "file_extension": ".py",
   "mimetype": "text/x-python",
   "name": "python",
   "nbconvert_exporter": "python",
   "pygments_lexer": "ipython3",
   "version": "3.9.7"
  },
  "orig_nbformat": 4,
  "vscode": {
   "interpreter": {
    "hash": "ebc16a5ec429c0d0786ef0818039d9715fdf20938ad999afd5ba7dce4716b298"
   }
  }
 },
 "nbformat": 4,
 "nbformat_minor": 2
}
