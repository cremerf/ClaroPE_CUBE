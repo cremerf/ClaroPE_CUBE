{
 "cells": [
  {
   "cell_type": "code",
   "execution_count": 1,
   "metadata": {},
   "outputs": [],
   "source": [
    "import pandas as pd\n",
    "import numpy as np\n",
    "import dask.dataframe as dd\n",
    "from google.cloud import bigquery\n",
    "from google.oauth2 import service_account"
   ]
  },
  {
   "cell_type": "code",
   "execution_count": 5,
   "metadata": {},
   "outputs": [],
   "source": [
    "credentials = service_account.Credentials.from_service_account_file(\"C:/Users/Federico.Cremer/OneDrive - Havas/Desktop/Science/Claro Peru/credentials.json\")\n",
    "client = bigquery.Client(credentials = credentials, project = \"claro-peru-trasabilidad\")"
   ]
  },
  {
   "cell_type": "code",
   "execution_count": null,
   "metadata": {},
   "outputs": [],
   "source": [
    "#print(\"Running:\")\n",
    "\n",
    "#list_datasets_1 = [\"DV360\", \"GoogleAds\",\"Facebook\",\"LinkedIn\",\"Paid_Media\",\"Twitter\"]\n",
    "\n",
    "columns_dv360 = [\"date\", \"data_source_name\" ,\"insertion_order\", \"campaign_name\", \"line_item\", \"clicks\", \"impressions\", \"conversions\", \"total_media_cost\", \"video_completions\", \"video_first_quartile_completes\", \"video_mid_points\", \"video_third_quartile_completes\"]\n",
    "columns_GoogleAds = [\"date\", \"data_source_name\", \"campaign_name\", \"ad_group_name\", \"clicks\", \"impressions\", \"conversions\", \"cost\", \"video_quartile_100_views\", \"conversion_value\", \"video_views\"]\n",
    "columns_Facebook = [\"date\", \"data_source_name\", \"campaign_name\", \"ad_group_name\", \"clicks\", \"impressions\", \"cost\", \"video_p_100_watched_actions\", \"video_p_25_watched_actions\", \"video_p_50_watched_actions\", \"video_p_75_watched_actions\", \"ad_name\", \"campaign_objective\", \"promoted_post_permalink_url\", \"promoted_post_permalink_ig_url\", \"action_link_click\", \"action_post_engagement\", \"landing_page_views\", \"conversion_value\", \"offsite_conversions\", \"offsite_conversions_fb_pixel_complete_registration\", \"offsite_conversions_fb_pixel_lead\", \"offsite_conversions_fb_pixel_purchase\", \"video_thruplay_watched_actions\", \"action_app_install\", \"action_type\", \"actions\"]\n",
    "columns_LinkedIn = [\"date\", \"data_source_name\",\"campaign_name\", \"clicks\", \"impressions\", \"conversions\", \"cost\", \"video_completions\", \"video_first_quartile_completions\", \"video_midpoint_completions\", \"video_third_quartile_completions\", \"campaign_objective\", \"total_engagements\", \"landing_page_clicks\", \"conversion_value\", \"video_views\", \"leads\"]\n",
    "columns_Paid_Media = ''\n",
    "columns_Twitter = [\"date\", \"data_source_name\", \"campaign_name\", \"line_item_name\", \"clicks\", \"impressions\", \"cost\", \"promoted_video_views_100\", \"promoted_video_views_25\", \"promoted_video_views_50\", \"promoted_video_views_75\", \"link_clicks\"]"
   ]
  },
  {
   "cell_type": "markdown",
   "metadata": {},
   "source": [
    "#### LINKEDIN / PAIDMEDIA / TWITTER"
   ]
  },
  {
   "cell_type": "markdown",
   "metadata": {},
   "source": [
    "#### DV360 "
   ]
  },
  {
   "cell_type": "markdown",
   "metadata": {},
   "source": [
    "#### GoogleAds"
   ]
  },
  {
   "cell_type": "code",
   "execution_count": null,
   "metadata": {},
   "outputs": [],
   "source": [
    "df_GAds = pd.read_csv('df_GoogleAds.csv', usecols= columns_GoogleAds)"
   ]
  },
  {
   "cell_type": "code",
   "execution_count": null,
   "metadata": {},
   "outputs": [],
   "source": [
    "df_GAds"
   ]
  },
  {
   "cell_type": "code",
   "execution_count": null,
   "metadata": {},
   "outputs": [],
   "source": [
    "df_GAds.to_csv('df_GAds_Reducido.csv')"
   ]
  },
  {
   "cell_type": "markdown",
   "metadata": {},
   "source": [
    "#### Facebook"
   ]
  },
  {
   "cell_type": "code",
   "execution_count": null,
   "metadata": {},
   "outputs": [],
   "source": [
    "df_fb = pd.read_csv('df_facebook.csv' , usecols= columns_Facebook)"
   ]
  },
  {
   "cell_type": "code",
   "execution_count": null,
   "metadata": {},
   "outputs": [],
   "source": [
    "df_fb.to_csv('df_fb_Reducido.csv')"
   ]
  },
  {
   "cell_type": "markdown",
   "metadata": {},
   "source": [
    "#### Join/Merge de Dataframes reducidos a uno solo"
   ]
  },
  {
   "cell_type": "code",
   "execution_count": null,
   "metadata": {},
   "outputs": [],
   "source": [
    "df_linkedIn_paidMedia_Twitter_Reducido = pd.read_csv('df_linkedIn_paidMedia_Twitter_Reducido.csv')\n",
    "df_DV360 = pd.read_csv('df_DV360_Reducido.csv')"
   ]
  },
  {
   "cell_type": "code",
   "execution_count": null,
   "metadata": {},
   "outputs": [],
   "source": [
    "df_total_final = pd.concat([df_linkedIn_paidMedia_Twitter_Reducido, df_GAds, df_DV360, df_fb])"
   ]
  },
  {
   "cell_type": "code",
   "execution_count": null,
   "metadata": {},
   "outputs": [],
   "source": [
    "df_total_final"
   ]
  },
  {
   "cell_type": "code",
   "execution_count": null,
   "metadata": {},
   "outputs": [],
   "source": [
    "df_total_final.to_csv('cuboMasterFinal.csv')"
   ]
  },
  {
   "cell_type": "code",
   "execution_count": null,
   "metadata": {},
   "outputs": [],
   "source": [
    "df_total_final = pd.read_csv('cuboMasterFinal.csv')"
   ]
  },
  {
   "cell_type": "code",
   "execution_count": 6,
   "metadata": {},
   "outputs": [],
   "source": [
    "job_config = bigquery.LoadJobConfig(source_format=bigquery.SourceFormat.CSV, skip_leading_rows=1, autodetect=True)"
   ]
  },
  {
   "cell_type": "code",
   "execution_count": 7,
   "metadata": {},
   "outputs": [],
   "source": [
    "with open('cuboMasterFinal.csv', \"rb\") as cuboMasterFinal: \n",
    "    \n",
    "    upload_to_bigquery = client.load_table_from_file(cuboMasterFinal, destination= 'claro-peru-trasabilidad.cubo_test1.cubov1', job_config= job_config)\n",
    "    upload_to_bigquery.result()"
   ]
  },
  {
   "cell_type": "code",
   "execution_count": null,
   "metadata": {},
   "outputs": [],
   "source": [
    "print(\"DV360\")\n",
    "df_dv360 = client.merge_tables_from_dataset('DV360', columns=columns_dv360)"
   ]
  },
  {
   "cell_type": "code",
   "execution_count": null,
   "metadata": {},
   "outputs": [],
   "source": [
    "df_dv360.to_csv('df_dv360.csv')"
   ]
  },
  {
   "cell_type": "code",
   "execution_count": null,
   "metadata": {},
   "outputs": [],
   "source": [
    "print(\"GoogleAds\")\n",
    "df_GoogleAds = client.merge_tables_from_dataset('GoogleAds', columns=columns_GoogleAds)"
   ]
  },
  {
   "cell_type": "code",
   "execution_count": null,
   "metadata": {},
   "outputs": [],
   "source": [
    "df_GoogleAds.to_csv('df_GoogleAds.csv')"
   ]
  },
  {
   "cell_type": "code",
   "execution_count": null,
   "metadata": {},
   "outputs": [],
   "source": [
    "print(\"Facebook\")\n",
    "df_facebook = client.merge_tables_from_dataset('Facebook', columns=columns_Facebook)"
   ]
  },
  {
   "cell_type": "code",
   "execution_count": null,
   "metadata": {},
   "outputs": [],
   "source": [
    "df_facebook.to_csv('df_facebook.csv')"
   ]
  },
  {
   "cell_type": "code",
   "execution_count": null,
   "metadata": {},
   "outputs": [],
   "source": [
    "print(\"LinkedIn\")\n",
    "df_linkedin = client.merge_tables_from_dataset('LinkedIn', columns=columns_LinkedIn)"
   ]
  },
  {
   "cell_type": "code",
   "execution_count": null,
   "metadata": {},
   "outputs": [],
   "source": [
    "df_linkedin.to_csv('df_linkedin.csv')"
   ]
  },
  {
   "cell_type": "code",
   "execution_count": null,
   "metadata": {},
   "outputs": [],
   "source": [
    "print(\"Paid_Media\")\n",
    "df_paid_media = client.merge_tables_from_dataset('Paid_Media', columns=columns_Paid_Media)"
   ]
  },
  {
   "cell_type": "code",
   "execution_count": null,
   "metadata": {},
   "outputs": [],
   "source": [
    "df_paid_media.to_csv('df_paid_media.csv')"
   ]
  },
  {
   "cell_type": "code",
   "execution_count": null,
   "metadata": {},
   "outputs": [],
   "source": [
    "print(\"Twitter\")\n",
    "df_twitter = client.merge_tables_from_dataset('Twitter', columns=columns_Twitter)"
   ]
  },
  {
   "cell_type": "code",
   "execution_count": null,
   "metadata": {},
   "outputs": [],
   "source": [
    "df_twitter.to_csv('df_twitter.csv')"
   ]
  },
  {
   "cell_type": "code",
   "execution_count": null,
   "metadata": {},
   "outputs": [],
   "source": [
    "#list_datasets_2 = [\"LinkedIn\", \"Paid_Media\", \"Twitter\"]\n",
    "\n",
    "#print(\"MERGE: LinkedIn\", \"Paid_Media\", \"Twitter\")\n",
    "#df_total_all_datasets_2 = client.merge_all_datasets(list_of_selected_datasets= list_datasets_2, columns=columns)"
   ]
  },
  {
   "cell_type": "code",
   "execution_count": null,
   "metadata": {},
   "outputs": [],
   "source": [
    "#df_total_all_datasets_2"
   ]
  },
  {
   "cell_type": "code",
   "execution_count": null,
   "metadata": {},
   "outputs": [],
   "source": [
    "#df_total_all_datasets_2.to_csv('linkedIn_paidMedia_Twitter.csv')"
   ]
  },
  {
   "cell_type": "code",
   "execution_count": null,
   "metadata": {},
   "outputs": [],
   "source": [
    "# Esto no corre porque no trae todos los datos bien:\n",
    "#dask_df = dd.read_csv('./*.csv', assume_missing= True)\n",
    "\n",
    "#dask_df.compute().to_csv('./cubo_master.csv')"
   ]
  },
  {
   "cell_type": "code",
   "execution_count": null,
   "metadata": {},
   "outputs": [],
   "source": [
    "#print(\"JOIN BOTH MERGES\")\n",
    "#df_total_final =  df_total_all_datasets_1.join(df_total_all_datasets_2)"
   ]
  },
  {
   "cell_type": "code",
   "execution_count": null,
   "metadata": {},
   "outputs": [],
   "source": [
    "df_linkedIn_paidMedia_Twitter = pd.read_csv('cuboMaster2.csv')\n",
    "df_total = pd.read_csv('df_dv360.csv')\n",
    "df_GAds = pd.read_csv('df_GoogleAds.csv')\n",
    "df_fb = pd.read_csv('df_facebook.csv')"
   ]
  },
  {
   "cell_type": "code",
   "execution_count": null,
   "metadata": {},
   "outputs": [],
   "source": [
    "df_total = pd.concat([df_total, df_GAds])\n",
    "df_total = pd.concat([df_total, df_fb])\n",
    "df_total = pd.concat([df_total, df_linkedin])\n",
    "df_total = pd.concat([df_total, df_paid_media])\n",
    "df_total = pd.concat([df_total, df_twitter])"
   ]
  },
  {
   "cell_type": "code",
   "execution_count": null,
   "metadata": {},
   "outputs": [],
   "source": [
    "df_total.head(5)"
   ]
  },
  {
   "cell_type": "code",
   "execution_count": null,
   "metadata": {},
   "outputs": [],
   "source": [
    "print(\"TO CSV\")\n",
    "df_total.to_csv('cuboMaster.csv')"
   ]
  },
  {
   "cell_type": "code",
   "execution_count": null,
   "metadata": {},
   "outputs": [],
   "source": [
    "print(\"UPLOAD TO BIGQUERY\")\n",
    "client.client.load_table_from_dataframe(df_total, destination= 'claro-peru-trasabilidad.cubo_test1.cubov1')\n",
    "\n",
    "print('The program has finished.')"
   ]
  }
 ],
 "metadata": {
  "kernelspec": {
   "display_name": "Python 3.9.7 ('base')",
   "language": "python",
   "name": "python3"
  },
  "language_info": {
   "codemirror_mode": {
    "name": "ipython",
    "version": 3
   },
   "file_extension": ".py",
   "mimetype": "text/x-python",
   "name": "python",
   "nbconvert_exporter": "python",
   "pygments_lexer": "ipython3",
   "version": "3.9.7"
  },
  "orig_nbformat": 4,
  "vscode": {
   "interpreter": {
    "hash": "ebc16a5ec429c0d0786ef0818039d9715fdf20938ad999afd5ba7dce4716b298"
   }
  }
 },
 "nbformat": 4,
 "nbformat_minor": 2
}
