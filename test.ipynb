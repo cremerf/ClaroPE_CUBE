{
 "cells": [
  {
   "cell_type": "code",
   "execution_count": 1,
   "metadata": {},
   "outputs": [],
   "source": [
    "from packages.tools import ConnectionBigQuery\n",
    "from packages.claro_paths import ClaroPath\n",
    "import pandas as pd\n",
    "import numpy as np\n",
    "import dask.dataframe as dd"
   ]
  },
  {
   "cell_type": "code",
   "execution_count": null,
   "metadata": {},
   "outputs": [],
   "source": [
    "client = ConnectionBigQuery(path_credentials=\"C:/Users/Federico.Cremer/OneDrive - Havas/Desktop/Science/Claro Peru/credentials.json\",project_id=\"claro-peru-trasabilidad\")\n",
    "\n",
    "client.connect()"
   ]
  },
  {
   "cell_type": "code",
   "execution_count": null,
   "metadata": {},
   "outputs": [],
   "source": [
    "print(\"Running:\")\n",
    "\n",
    "list_datasets_1 = [\"DV360\", \"GoogleAds\",\"Facebook\",\"LinkedIn\",\"Paid_Media\",\"Twitter\"]\n",
    "\n",
    "columns = [\"SEXO\",\"FECHA NACIMIENTO\", \"TIPO DOCUMENTO\", \"NÚMERO DE DOCUMENTO\",\"DEPARTAMENTO\",\"PROVINCIA\",\"DISTRITO\",\"DIRECCIÓN\",\"TELÉFONO\",\"CELULAR DE CONTACTO\",\"CORREO ELECTRÓNICO\",\"ID DEL FORMULARIO LEAD\",\"TRANSACTION ID\",\"OPERADOR ACTUAL\",\"FECHA_CONTACTO\",\"HORA_CONTACTO\", \"INTENTOS DE LLAMADA\",\"FECHA DE INCIO DE GESTIÓN\", \"HORA DE LA ATENCIÓN\",\"TIPO DE CONTACTO\",\"SUB_TIPO\",\"MOTIVO\",\"DETALLE\",\"ID FORMULARIO VENDIDO\",\"DESCRIPCIÓN DEL PLAN ADQUIRIDO\",\"UGIS\",\"ADD ON\",\"PRECIO PAQUETE\",\"PRECIO ADICIONAL\",\"PRODUCTO\",\"FULL CLARO\",\"POR DONDE SE ENTERO\",\"AGENDADO\",\"RESULTADO\"]\n",
    "\t\t\t\t\t\t\t\t\t\t\t\t\t\t\t\t\t\t\t\t\t\t\t\t\n",
    "\n",
    "print(\"DV360\")\n",
    "df_dv360 = client.merge_tables_from_dataset('DV360', columns=columns)"
   ]
  },
  {
   "cell_type": "code",
   "execution_count": 4,
   "metadata": {},
   "outputs": [],
   "source": [
    "df_dv360.to_csv('df_dv360.csv')"
   ]
  },
  {
   "cell_type": "code",
   "execution_count": null,
   "metadata": {},
   "outputs": [],
   "source": [
    "print(\"GoogleAds\")\n",
    "df_GoogleAds = client.merge_tables_from_dataset('GoogleAds', columns=columns)"
   ]
  },
  {
   "cell_type": "code",
   "execution_count": 6,
   "metadata": {},
   "outputs": [],
   "source": [
    "df_GoogleAds.to_csv('df_GoogleAds.csv')"
   ]
  },
  {
   "cell_type": "code",
   "execution_count": null,
   "metadata": {},
   "outputs": [],
   "source": [
    "print(\"Facebook\")\n",
    "df_facebook = client.merge_tables_from_dataset('Facebook', columns=columns)"
   ]
  },
  {
   "cell_type": "code",
   "execution_count": 8,
   "metadata": {},
   "outputs": [],
   "source": [
    "df_facebook.to_csv('df_facebook.csv')"
   ]
  },
  {
   "cell_type": "code",
   "execution_count": null,
   "metadata": {},
   "outputs": [],
   "source": [
    "list_datasets_2 = [\"LinkedIn\", \"Paid_Media\", \"Twitter\"]\n",
    "\n",
    "print(\"MERGE: LinkedIn\", \"Paid_Media\", \"Twitter\")\n",
    "df_total_all_datasets_2 = client.merge_all_datasets(list_of_selected_datasets= list_datasets_2, columns=columns)"
   ]
  },
  {
   "cell_type": "code",
   "execution_count": null,
   "metadata": {},
   "outputs": [],
   "source": [
    "df_total_all_datasets_2"
   ]
  },
  {
   "cell_type": "code",
   "execution_count": 8,
   "metadata": {},
   "outputs": [],
   "source": [
    "df_total_all_datasets_2.to_csv('linkedIn_paidMedia_Twitter.csv')"
   ]
  },
  {
   "cell_type": "code",
   "execution_count": null,
   "metadata": {},
   "outputs": [],
   "source": [
    "# Esto no corre porque no trae todos los datos bien:\n",
    "#dask_df = dd.read_csv('./*.csv', assume_missing= True)\n",
    "\n",
    "#dask_df.compute().to_csv('./cubo_master.csv')"
   ]
  },
  {
   "cell_type": "code",
   "execution_count": 5,
   "metadata": {},
   "outputs": [
    {
     "name": "stdout",
     "output_type": "stream",
     "text": [
      "JOIN BOTH MERGES\n"
     ]
    }
   ],
   "source": [
    "#print(\"JOIN BOTH MERGES\")\n",
    "#df_total_final =  df_total_all_datasets_1.join(df_total_all_datasets_2)"
   ]
  },
  {
   "cell_type": "code",
   "execution_count": null,
   "metadata": {},
   "outputs": [],
   "source": [
    "df_cuboMaster2 = pd.read_csv('linkedIn_paidMedia_Twitter.csv')\n",
    "df_dv360 = pd.read_csv('df_dv360.csv')"
   ]
  },
  {
   "cell_type": "code",
   "execution_count": null,
   "metadata": {},
   "outputs": [],
   "source": [
    "df_GAds = pd.read_csv('df_GoogleAds.csv')\n",
    "df_fb = pd.read_csv('df_facebook.csv')"
   ]
  },
  {
   "cell_type": "code",
   "execution_count": null,
   "metadata": {},
   "outputs": [],
   "source": [
    "df_cuboMaster2 = pd.concat([df_cuboMaster2, df_dv360])\n",
    "df_cuboMaster2 = pd.concat([df_cuboMaster2, df_GAds])\n",
    "df_cuboMaster2 = pd.concat([df_cuboMaster2, df_fb])"
   ]
  },
  {
   "cell_type": "code",
   "execution_count": null,
   "metadata": {},
   "outputs": [],
   "source": [
    "df_cuboMaster2.head(5)"
   ]
  },
  {
   "cell_type": "code",
   "execution_count": null,
   "metadata": {},
   "outputs": [],
   "source": [
    "print(\"TO CSV\")\n",
    "df_cuboMaster2.to_csv('cuboMaster.csv')"
   ]
  },
  {
   "cell_type": "code",
   "execution_count": null,
   "metadata": {},
   "outputs": [],
   "source": [
    "print(\"UPLOAD TO BIGQUERY\")\n",
    "client.client.load_table_from_dataframe(df_total_final, destination= 'claro-peru-trasabilidad.cubo_test1.cubov1')\n",
    "\n",
    "print('The program has finished.')"
   ]
  }
 ],
 "metadata": {
  "kernelspec": {
   "display_name": "Python 3.10.5 64-bit",
   "language": "python",
   "name": "python3"
  },
  "language_info": {
   "codemirror_mode": {
    "name": "ipython",
    "version": 3
   },
   "file_extension": ".py",
   "mimetype": "text/x-python",
   "name": "python",
   "nbconvert_exporter": "python",
   "pygments_lexer": "ipython3",
   "version": "3.10.5"
  },
  "orig_nbformat": 4,
  "vscode": {
   "interpreter": {
    "hash": "26de051ba29f2982a8de78e945f0abaf191376122a1563185a90213a26c5da77"
   }
  }
 },
 "nbformat": 4,
 "nbformat_minor": 2
}
