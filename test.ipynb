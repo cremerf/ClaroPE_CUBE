{
 "cells": [
  {
   "cell_type": "code",
   "execution_count": 1,
   "metadata": {},
   "outputs": [],
   "source": [
    "from packages.tools import ConnectionBigQuery\n",
    "from packages.claro_paths import ClaroPath\n",
    "import pandas as pd\n",
    "import numpy as np\n",
    "import dask.dataframe as dd"
   ]
  },
  {
   "cell_type": "code",
   "execution_count": null,
   "metadata": {},
   "outputs": [],
   "source": [
    "client = ConnectionBigQuery(path_credentials=\"C:/Users/Federico.Cremer/OneDrive - Havas/Desktop/Science/Claro Peru/credentials.json\",project_id=\"claro-peru-trasabilidad\")\n",
    "\n",
    "client.connect()"
   ]
  },
  {
   "cell_type": "code",
   "execution_count": null,
   "metadata": {},
   "outputs": [],
   "source": [
    "print(\"Running:\")\n",
    "\n",
    "list_datasets_1 = [\"DV360\", \"GoogleAds\",\"Facebook\",\"LinkedIn\",\"Paid_Media\",\"Twitter\"]\n",
    "\n",
    "columns = ['data_source_name','date', 'insertion_order', 'line_item', 'video_duration', 'clicks', 'impressions', 'revenue', 'conversions', 'total_media_cost', 'video_completions', 'video_first_quartile_completes', 'video_full_screens', 'video_mid_points', 'video_mutes', 'video_pauses', 'video_plays', 'video_third_quartile_completes', 'advertiser_status', 'campaign_name', 'insertion_order_status', 'active_view_viewable_impressions', 'last_clicks', 'last_impressions', 'media_cost', 'media_fee_1', 'ad_name', 'ad_configured_status', 'ad_group_name', 'ad_status', 'campaign_objective', 'campaign_status', 'promoted_post_permalink_url', 'promoted_post_permalink_ig_url', 'utm_campaign', 'utm_content', 'utm_medium', 'utm_source', 'utm_term', 'action_app_engagement', 'action_app_install', 'action_app_use',\t'action_link_click', 'action_mobile_app_install', 'action_page_engagement', 'action_post_engagement', 'cost', 'landing_page_views', 'offline_conversions_leads', 'conversion_value', 'offsite_conversion_value_fb_pixel_add_payment_info', 'offsite_conversion_value_fb_pixel_add_to_cart', 'offsite_conversion_value_fb_pixel_add_to_wishlist', 'offsite_conversion_value_fb_pixel_complete_registration', 'offsite_conversion_value_fb_pixel_initiate_checkout', 'offsite_conversion_value_fb_pixel_lead', 'offsite_conversion_value_fb_pixel_purchase', 'offsite_conversion_value_fb_pixel_search', 'offsite_conversion_value_fb_pixel_view_content', 'offsite_conversions', 'offsite_conversions_fb_pixel_add_payment_info', 'offsite_conversions_fb_pixel_add_to_cart', 'offsite_conversions_fb_pixel_add_to_wishlist', 'offsite_conversions_fb_pixel_complete_registration', 'offsite_conversions_fb_pixel_initiate_checkout', 'offsite_conversions_fb_pixel_lead', 'offsite_conversions_fb_pixel_purchase', 'offsite_conversions_fb_pixel_search', 'offsite_conversions_fb_pixel_view_content', 'offsite_conversions_key_page_view', 'offsite_conversions_leads', 'offsite_conversions_registrations', 'reach', 'age', 'gender', 'country_name', 'region', 'video_10_sec_watched_actions', 'video_15_sec_watched_actions', 'video_30_sec_watched_actions', 'video_average_watch_time', 'video_p_100_watched_actions', 'video_p_25_watched_actions', 'video_p_50_watched_actions',  'video_p_75_watched_actions', 'video_p_95_watched_actions', 'video_thruplay_watched_actions', 'ad_labels', 'ad_type', 'campaign_labels', 'description', 'description_1', 'description_2', 'device', 'display_url', 'final_url', 'headline', 'headline_part_1', 'headline_part_2', 'headline_part_3', 'path_1', 'path_2', 'short_headline', 'text_ad_description_1', 'text_ad_description_2', 'active_view_impressions', 'engagements', 'gmail_forwards', 'gmail_saves', 'gmail_secondary_clicks', 'interactions', 'video_impressions', 'video_quartile_100_views', 'video_views', 'view_through_conversions', 'advertising_channel_sub_type', 'advertising_channel_type', 'impression_share', 'search_absolute_top_impression_share', 'search_budget_lost_impression_share', 'search_exact_match_impression_share', 'search_impression_share', 'search_rank_lost_top_impression_share', 'search_top_impression_share', 'top_impression_percentage', 'total_budget', 'conversion_category', 'conversion_type_name', 'external_conversion_source', 'estimated_cross_device_conversions', 'estimated_total_conversions', 'estimated_total_conversion_value', 'city', 'creative_quality_score', 'keyword', 'quality_score', 'search_term', 'brand', 'custom_attribute', 'custom_attribute_1', 'custom_attribute_2', 'custom_attribute_4', 'product_title', 'landing_page_clicks', 'leads', 'cost_per_lead', 'total_engagements', 'video_first_quartile_completions', 'video_midpoint_completions', 'video_third_quartile_completions', 'line_item_name', 'line_item_objective', 'promoted_tweet_card_destination_url', 'promoted_tweet_card_display_url', 'promoted_tweet_card_image_url', 'promoted_tweet_first_url', 'conversion_downloads', 'conversion_purchases', 'conversion_sign_ups', 'conversion_site_visits', 'media_views', 'promoted_video_views_100', 'promoted_video_views_25', 'promoted_video_views_50', 'promoted_video_views_75', 'link_clicks']\n",
    "\t\t\t\t\t\t\t\t\t\t\t\t\t\t\t\t\t\t\t\t\t\t\t\t\n",
    "\n",
    "print(\"DV360\")\n",
    "df_dv360 = client.merge_tables_from_dataset('DV360', columns=columns)"
   ]
  },
  {
   "cell_type": "code",
   "execution_count": 4,
   "metadata": {},
   "outputs": [],
   "source": [
    "df_dv360.to_csv('df_dv360.csv')"
   ]
  },
  {
   "cell_type": "code",
   "execution_count": null,
   "metadata": {},
   "outputs": [],
   "source": [
    "print(\"GoogleAds\")\n",
    "df_GoogleAds = client.merge_tables_from_dataset('GoogleAds', columns=columns)"
   ]
  },
  {
   "cell_type": "code",
   "execution_count": 6,
   "metadata": {},
   "outputs": [],
   "source": [
    "df_GoogleAds.to_csv('df_GoogleAds.csv')"
   ]
  },
  {
   "cell_type": "code",
   "execution_count": null,
   "metadata": {},
   "outputs": [],
   "source": [
    "print(\"Facebook\")\n",
    "df_facebook = client.merge_tables_from_dataset('Facebook', columns=columns)"
   ]
  },
  {
   "cell_type": "code",
   "execution_count": 8,
   "metadata": {},
   "outputs": [],
   "source": [
    "df_facebook.to_csv('df_facebook.csv')"
   ]
  },
  {
   "cell_type": "code",
   "execution_count": null,
   "metadata": {},
   "outputs": [],
   "source": [
    "list_datasets_2 = [\"LinkedIn\", \"Paid_Media\", \"Twitter\"]\n",
    "\n",
    "print(\"MERGE: LinkedIn\", \"Paid_Media\", \"Twitter\")\n",
    "df_total_all_datasets_2 = client.merge_all_datasets(list_of_selected_datasets= list_datasets_2, columns=columns)"
   ]
  },
  {
   "cell_type": "code",
   "execution_count": null,
   "metadata": {},
   "outputs": [],
   "source": [
    "df_total_all_datasets_2"
   ]
  },
  {
   "cell_type": "code",
   "execution_count": 8,
   "metadata": {},
   "outputs": [],
   "source": [
    "df_total_all_datasets_2.to_csv('linkedIn_paidMedia_Twitter.csv')"
   ]
  },
  {
   "cell_type": "code",
   "execution_count": null,
   "metadata": {},
   "outputs": [],
   "source": [
    "# Esto no corre porque no trae todos los datos bien:\n",
    "#dask_df = dd.read_csv('./*.csv', assume_missing= True)\n",
    "\n",
    "#dask_df.compute().to_csv('./cubo_master.csv')"
   ]
  },
  {
   "cell_type": "code",
   "execution_count": 5,
   "metadata": {},
   "outputs": [
    {
     "name": "stdout",
     "output_type": "stream",
     "text": [
      "JOIN BOTH MERGES\n"
     ]
    }
   ],
   "source": [
    "#print(\"JOIN BOTH MERGES\")\n",
    "#df_total_final =  df_total_all_datasets_1.join(df_total_all_datasets_2)"
   ]
  },
  {
   "cell_type": "code",
   "execution_count": null,
   "metadata": {},
   "outputs": [],
   "source": [
    "df_cuboMaster2 = pd.read_csv('linkedIn_paidMedia_Twitter.csv')\n",
    "df_dv360 = pd.read_csv('df_dv360.csv')"
   ]
  },
  {
   "cell_type": "code",
   "execution_count": null,
   "metadata": {},
   "outputs": [],
   "source": [
    "df_GAds = pd.read_csv('df_GoogleAds.csv')\n",
    "df_fb = pd.read_csv('df_facebook.csv')"
   ]
  },
  {
   "cell_type": "code",
   "execution_count": null,
   "metadata": {},
   "outputs": [],
   "source": [
    "df_cuboMaster2 = pd.concat([df_cuboMaster2, df_dv360])\n",
    "df_cuboMaster2 = pd.concat([df_cuboMaster2, df_GAds])\n",
    "df_cuboMaster2 = pd.concat([df_cuboMaster2, df_fb])"
   ]
  },
  {
   "cell_type": "code",
   "execution_count": null,
   "metadata": {},
   "outputs": [],
   "source": [
    "df_cuboMaster2.head(5)"
   ]
  },
  {
   "cell_type": "code",
   "execution_count": null,
   "metadata": {},
   "outputs": [],
   "source": [
    "print(\"TO CSV\")\n",
    "df_cuboMaster2.to_csv('cuboMaster.csv')"
   ]
  },
  {
   "cell_type": "code",
   "execution_count": null,
   "metadata": {},
   "outputs": [],
   "source": [
    "print(\"UPLOAD TO BIGQUERY\")\n",
    "client.client.load_table_from_dataframe(df_cuboMaster2, destination= 'claro-peru-trasabilidad.cubo_test1.cubov1')\n",
    "\n",
    "print('The program has finished.')"
   ]
  }
 ],
 "metadata": {
  "kernelspec": {
   "display_name": "Python 3.10.5 64-bit",
   "language": "python",
   "name": "python3"
  },
  "language_info": {
   "codemirror_mode": {
    "name": "ipython",
    "version": 3
   },
   "file_extension": ".py",
   "mimetype": "text/x-python",
   "name": "python",
   "nbconvert_exporter": "python",
   "pygments_lexer": "ipython3",
   "version": "3.10.5"
  },
  "orig_nbformat": 4,
  "vscode": {
   "interpreter": {
    "hash": "26de051ba29f2982a8de78e945f0abaf191376122a1563185a90213a26c5da77"
   }
  }
 },
 "nbformat": 4,
 "nbformat_minor": 2
}
