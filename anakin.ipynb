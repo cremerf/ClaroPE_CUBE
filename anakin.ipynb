{
 "cells": [
  {
   "cell_type": "code",
   "execution_count": null,
   "metadata": {},
   "outputs": [],
   "source": [
    "import requests\n",
    "import json\n",
    "import pandas as pd\n",
    "import datetime\n",
    "from io import StringIO\n",
    "import datetime\n",
    "import df2gspread as d2g\n",
    "import gspread_dataframe as gd\n",
    "import gspread as gs\n",
    "from googleapiclient import discovery\n",
    "from gspread_dataframe import get_as_dataframe, set_with_dataframe\n",
    "import os\n",
    "import glob"
   ]
  },
  {
   "cell_type": "code",
   "execution_count": null,
   "metadata": {},
   "outputs": [],
   "source": [
    "."
   ]
  },
  {
   "cell_type": "code",
   "execution_count": null,
   "metadata": {},
   "outputs": [],
   "source": [
    "path = r'C:\\Users\\Federico.Cremer\\OneDrive - Havas\\Desktop\\Science\\Claro Peru\\masterJoin' #creo el path donde estan todos los cvs\n",
    "all_files = glob.glob(os.path.join(path, \"*.csv\")) #uso la libreria glob con el metodo glob  y uso el metodo os para que trabaje de forma independiente al local\n",
    "#uso los dos parametros para joinear el path y la extension del archivo"
   ]
  },
  {
   "cell_type": "code",
   "execution_count": null,
   "metadata": {},
   "outputs": [],
   "source": [
    "df_from_each_file = (pd.read_csv(f) for f in all_files) #list comprehension = es un loop un poco mas simple. se usa mucho para leer archivos y hacer algo despues de la lectura\n",
    "concatenated_df   = pd.concat(df_from_each_file, ignore_index=True) #unimos todo lo que estaba almacenado en df_from_each_file"
   ]
  },
  {
   "cell_type": "code",
   "execution_count": null,
   "metadata": {},
   "outputs": [],
   "source": [
    "concatenated_df.fillna('Nulo') #lleno los espacios 'Na' con 'Nulo', en los strings pueden poner lo que quieran yo pondría 0 para disminuir el tiempo de procesamiento pero puse Nulo para que el cliente lo vea"
   ]
  },
  {
   "cell_type": "code",
   "execution_count": null,
   "metadata": {},
   "outputs": [],
   "source": [
    "concatenated_df.to_excel('master.xlsx') #escribimos el objeto creado antes en un xlsx. 1) creamos el excel 2) lo guardamos en la carpeta que corre el script"
   ]
  },
  {
   "cell_type": "code",
   "execution_count": 29,
   "metadata": {},
   "outputs": [],
   "source": [
    "columnas = ['data_source_name','date', 'insertion_order', 'line_item', 'video_duration', 'clicks', 'impressions', 'revenue', 'conversions', 'total_media_cost', 'video_completions', 'video_first_quartile_completes', 'video_full_screens', 'video_mid_points', 'video_mutes', 'video_pauses', 'video_plays', 'video_third_quartile_completes', 'advertiser_status', 'campaign_name', 'insertion_order_status', 'active_view_viewable_impressions', 'last_clicks', 'last_impressions', 'media_cost', 'media_fee_1', 'ad_name', 'ad_configured_status', 'ad_group_name', 'ad_status', 'campaign_objective', 'campaign_status', 'promoted_post_permalink_url', 'promoted_post_permalink_ig_url', 'utm_campaign', 'utm_content', 'utm_medium', 'utm_source', 'utm_term', 'action_app_engagement', 'action_app_install', 'action_app_use',\t'action_link_click', 'action_mobile_app_install', 'action_page_engagement', 'action_post_engagement', 'cost', 'landing_page_views', 'offline_conversions_leads', 'conversion_value', 'offsite_conversion_value_fb_pixel_add_payment_info', 'offsite_conversion_value_fb_pixel_add_to_cart', 'offsite_conversion_value_fb_pixel_add_to_wishlist', 'offsite_conversion_value_fb_pixel_complete_registration', 'offsite_conversion_value_fb_pixel_initiate_checkout', 'offsite_conversion_value_fb_pixel_lead', 'offsite_conversion_value_fb_pixel_purchase', 'offsite_conversion_value_fb_pixel_search', 'offsite_conversion_value_fb_pixel_view_content', 'offsite_conversions', 'offsite_conversions_fb_pixel_add_payment_info', 'offsite_conversions_fb_pixel_add_to_cart', 'offsite_conversions_fb_pixel_add_to_wishlist', 'offsite_conversions_fb_pixel_complete_registration', 'offsite_conversions_fb_pixel_initiate_checkout', 'offsite_conversions_fb_pixel_lead', 'offsite_conversions_fb_pixel_purchase', 'offsite_conversions_fb_pixel_search', 'offsite_conversions_fb_pixel_view_content', 'offsite_conversions_key_page_view', 'offsite_conversions_leads', 'offsite_conversions_registrations', 'reach', 'age', 'gender', 'country_name', 'region', 'video_10_sec_watched_actions', 'video_15_sec_watched_actions', 'video_30_sec_watched_actions', 'video_average_watch_time', 'video_p_100_watched_actions', 'video_p_25_watched_actions', 'video_p_50_watched_actions',  'video_p_75_watched_actions', 'video_p_95_watched_actions', 'video_thruplay_watched_actions', 'ad_labels', 'ad_type', 'campaign_labels', 'description', 'description_1', 'description_2', 'device', 'display_url', 'final_url', 'headline', 'headline_part_1', 'headline_part_2', 'headline_part_3', 'path_1', 'path_2', 'short_headline', 'text_ad_description_1', 'text_ad_description_2', 'active_view_impressions', 'engagements', 'gmail_forwards', 'gmail_saves', 'gmail_secondary_clicks', 'interactions', 'video_impressions', 'video_quartile_100_views', 'video_views', 'view_through_conversions', 'advertising_channel_sub_type', 'advertising_channel_type', 'impression_share', 'search_absolute_top_impression_share', 'search_budget_lost_impression_share', 'search_exact_match_impression_share', 'search_impression_share', 'search_rank_lost_top_impression_share', 'search_top_impression_share', 'top_impression_percentage', 'total_budget', 'conversion_category', 'conversion_type_name', 'external_conversion_source', 'estimated_cross_device_conversions', 'estimated_total_conversions', 'estimated_total_conversion_value', 'city', 'creative_quality_score', 'keyword', 'quality_score', 'search_term', 'brand', 'custom_attribute', 'custom_attribute_1', 'custom_attribute_2', 'custom_attribute_4', 'product_title', 'landing_page_clicks', 'leads', 'cost_per_lead', 'total_engagements', 'video_first_quartile_completions', 'video_midpoint_completions', 'video_third_quartile_completions', 'line_item_name', 'line_item_objective', 'promoted_tweet_card_destination_url', 'promoted_tweet_card_display_url', 'promoted_tweet_card_image_url', 'promoted_tweet_first_url', 'conversion_downloads', 'conversion_purchases', 'conversion_sign_ups', 'conversion_site_visits', 'media_views', 'promoted_video_views_100', 'promoted_video_views_25', 'promoted_video_views_50', 'promoted_video_views_75', 'link_clicks']\n"
   ]
  },
  {
   "cell_type": "code",
   "execution_count": 31,
   "metadata": {},
   "outputs": [],
   "source": [
    "concatenated_df_final = concatenated_df[columnas]"
   ]
  },
  {
   "cell_type": "code",
   "execution_count": 33,
   "metadata": {},
   "outputs": [],
   "source": [
    "concatenated_df_final.to_excel('masterFinal.xlsx', index=False)"
   ]
  }
 ],
 "metadata": {
  "interpreter": {
   "hash": "ebc16a5ec429c0d0786ef0818039d9715fdf20938ad999afd5ba7dce4716b298"
  },
  "kernelspec": {
   "display_name": "Python 3.9.7 ('base')",
   "language": "python",
   "name": "python3"
  },
  "language_info": {
   "codemirror_mode": {
    "name": "ipython",
    "version": 3
   },
   "file_extension": ".py",
   "mimetype": "text/x-python",
   "name": "python",
   "nbconvert_exporter": "python",
   "pygments_lexer": "ipython3",
   "version": "3.9.7"
  },
  "orig_nbformat": 4
 },
 "nbformat": 4,
 "nbformat_minor": 2
}
